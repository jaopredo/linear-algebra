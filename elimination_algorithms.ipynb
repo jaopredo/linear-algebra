{
 "cells": [
  {
   "cell_type": "markdown",
   "metadata": {},
   "source": [
    "Importação das bibliotecas"
   ]
  },
  {
   "cell_type": "code",
   "execution_count": 22,
   "metadata": {},
   "outputs": [],
   "source": [
    "import numpy as np\n",
    "import warnings\n",
    "import seaborn as sns\n",
    "from randomness import generate_column_vector, generate_invertible_matrix, generate_strictly_diagonal_dominant_matrix\n",
    "from utils import is_strictly_diagonal_dominant"
   ]
  },
  {
   "cell_type": "markdown",
   "metadata": {},
   "source": [
    "# Projeto 1\n",
    "Implementação dos algoritmos de eliminação gaussiana aprendidos (Jacob e Gauss)\n",
    "\n",
    "## Questões\n",
    "### 1ª Questão\n",
    "#### a ) Implemente os métodos de Jacobi e Gauss-Seidel para resolver o sistema linear $ Ax = b $"
   ]
  },
  {
   "cell_type": "markdown",
   "metadata": {},
   "source": [
    "Implementando o método de Jacobi:"
   ]
  },
  {
   "cell_type": "code",
   "execution_count": null,
   "metadata": {},
   "outputs": [
    {
     "name": "stdout",
     "output_type": "stream",
     "text": [
      "O resultado original:\n",
      "[[ 0.57925072]\n",
      " [-0.4351585 ]\n",
      " [ 0.43804035]]\n",
      "O resultado do algoritmo\n",
      "[[ 0.57925072]\n",
      " [-0.4351585 ]\n",
      " [ 0.43804034]]\n"
     ]
    }
   ],
   "source": [
    "def jacobi(A: np.ndarray, b: np.ndarray, n: int = 100) -> np.ndarray:\n",
    "    \"\"\"This function uses the Jacobi method for computing the solution of the linear system Ax = b\n",
    "\n",
    "    Args:\n",
    "        A (np.ndarray): Squared nxn matrix A\n",
    "        b (np.ndarray): Vector b\n",
    "        n (int, optional): The amout of times the initial guess will be iterated to converge to the solution. Default to 100\n",
    "\n",
    "    Raises:\n",
    "        ValueError: Raises if A has 0 in its diagonal\n",
    "        \n",
    "    Returns:\n",
    "        np.ndarray: Returns the approximation to the solution of the system\n",
    "    \"\"\"\n",
    "    x = np.zeros(shape=(A.shape[1], 1))\n",
    "\n",
    "    # If the matrix has zeros on its diagonal, it will change the order of lines to make the future\n",
    "    # D matrix invertible\n",
    "    A_diag = np.diag(A)\n",
    "    if 0 in A_diag:\n",
    "        raise ValueError(\"A has 0s in its diagonal!\")\n",
    "\n",
    "    # If the matrix isn't strictly diagonal dominant, so the method may diverge, so it will warn the user\n",
    "    if not is_strictly_diagonal_dominant(A):  # Checking if the method will converge\n",
    "        warnings.warn(\"The matrix passed isn't strictly diagonal dominant, so the Jacobi method may converge\")\n",
    "    \n",
    "    # Constructing the matrices L, U and D where A = L + D + U\n",
    "    D = np.diag(np.diag(A))\n",
    "    U = np.zeros(shape=A.shape)\n",
    "    L = np.zeros(shape=A.shape)\n",
    "    for j in range(A.shape[1]):  # I'm going throughout all the columns of A\n",
    "        U += np.diag(np.diag(A, j+1), j+1)\n",
    "        L += np.diag(np.diag(A, -(j+1)), -(j+1))\n",
    "    \n",
    "    # Creating the M matrix and c vector (M = -D/(L+U), c = D/b)\n",
    "    inverse_of_D = np.linalg.inv(D)\n",
    "    M = -inverse_of_D@(L+U)\n",
    "    c = inverse_of_D@b\n",
    "    \n",
    "    # Initializing the algorithm\n",
    "    for k in range(n):\n",
    "        x = M @ x + c\n",
    "    \n",
    "    return x"
   ]
  },
  {
   "cell_type": "markdown",
   "metadata": {},
   "source": [
    "Implementando o método de Gauss:"
   ]
  },
  {
   "cell_type": "code",
   "execution_count": null,
   "metadata": {},
   "outputs": [],
   "source": []
  },
  {
   "cell_type": "markdown",
   "metadata": {},
   "source": [
    "#### b) Teste com matrizes $ 2 × 2 $ e $ 3 × 3 $, e compare graficamente a velocidade de convergência dos dois métodos"
   ]
  },
  {
   "cell_type": "markdown",
   "metadata": {},
   "source": [
    "Testando o método de Jacobi:"
   ]
  },
  {
   "cell_type": "code",
   "execution_count": null,
   "metadata": {},
   "outputs": [],
   "source": []
  },
  {
   "cell_type": "markdown",
   "metadata": {},
   "source": [
    "Testando o método de Gauss:"
   ]
  },
  {
   "cell_type": "code",
   "execution_count": null,
   "metadata": {},
   "outputs": [],
   "source": []
  }
 ],
 "metadata": {
  "kernelspec": {
   "display_name": "venv",
   "language": "python",
   "name": "python3"
  },
  "language_info": {
   "codemirror_mode": {
    "name": "ipython",
    "version": 3
   },
   "file_extension": ".py",
   "mimetype": "text/x-python",
   "name": "python",
   "nbconvert_exporter": "python",
   "pygments_lexer": "ipython3",
   "version": "3.12.3"
  }
 },
 "nbformat": 4,
 "nbformat_minor": 2
}
