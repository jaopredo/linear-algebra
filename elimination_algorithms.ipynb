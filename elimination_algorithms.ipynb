{
 "cells": [
  {
   "cell_type": "markdown",
   "metadata": {},
   "source": [
    "Importação das bibliotecas"
   ]
  },
  {
   "cell_type": "code",
   "execution_count": null,
   "metadata": {},
   "outputs": [],
   "source": [
    "import numpy as np\n",
    "import pandas as pd\n",
    "import matplotlib.pyplot as plt\n",
    "import seaborn as sns\n",
    "from randomness import generate_column_vector, generate_invertible_matrix, generate_strictly_diagonal_dominant_matrix"
   ]
  },
  {
   "cell_type": "markdown",
   "metadata": {},
   "source": [
    "# Projeto 1\n",
    "Implementação dos algoritmos de eliminação gaussiana aprendidos (Jacob e Gauss)\n",
    "\n",
    "## Questões\n",
    "### 1ª Questão\n",
    "#### a ) Implemente os métodos de Jacobi e Gauss-Seidel para resolver o sistema linear $ Ax = b $"
   ]
  },
  {
   "cell_type": "markdown",
   "metadata": {},
   "source": [
    "Implementando o método de Jacobi:"
   ]
  },
  {
   "cell_type": "code",
   "execution_count": 70,
   "metadata": {},
   "outputs": [],
   "source": [
    "def jacobi(A: np.ndarray, b: np.ndarray, solution: np.ndarray = None, n: int = 100, atol: float = 1e-6) -> tuple[int, np.ndarray]:\n",
    "    \"\"\"This function uses the Jacobi method for computing the solution of the linear system Ax = b.\n",
    "    Remembering that, if the matrix isn't strictly diagonal, the algorithm may not converge to the solution.\n",
    "    And the algorithm converges if, and only if, all eigenvalues of A are less then 1 (This function doesn't\n",
    "    calculate the eigenvalues because it can cost a lot of resources of the computer).\n",
    "\n",
    "    Args:\n",
    "        A (np.ndarray): Squared nxn matrix A\n",
    "        b (np.ndarray): Vector b\n",
    "        n (int, optional): The amout of times the initial guess will be iterated to converge to the solution. Default to 100\n",
    "        atol (float, optional): Define the tolerance of the approximation between the algorithm solution and the real solution (if the solution is passed)\n",
    "        solution (np.ndarray, optional): The result of the system\n",
    "\n",
    "    Raises:\n",
    "        ValueError: Raises if A has 0 in its diagonal\n",
    "        \n",
    "    Returns:\n",
    "        tuple[int, np.ndarray]: Returns how many iterations did it take to get the algorithms sollution and the approximation to the solution of the system\n",
    "    \"\"\"\n",
    "    x = np.zeros(shape=(A.shape[1], 1))\n",
    "\n",
    "    # If the matrix has zeros on its diagonal, it will change the order of lines to make the future\n",
    "    # D matrix invertible\n",
    "    A_diag = np.diag(A)\n",
    "    if 0 in A_diag:\n",
    "        raise ValueError(\"A has 0s in its diagonal!\")\n",
    "    \n",
    "    # Constructing the matrices L, U and D where A = L + D + U\n",
    "    D = np.diag(np.diag(A))\n",
    "    U = np.zeros(shape=A.shape)\n",
    "    L = np.zeros(shape=A.shape)\n",
    "    for j in range(A.shape[1]):  # I'm going throughout all the columns of A\n",
    "        U += np.diag(np.diag(A, j+1), j+1)\n",
    "        L += np.diag(np.diag(A, -(j+1)), -(j+1))\n",
    "    \n",
    "    # Creating the M matrix and c vector (M = -D/(L+U), c = D/b)\n",
    "    inverse_of_D = np.linalg.inv(D)\n",
    "    M = -inverse_of_D@(L+U)\n",
    "    c = inverse_of_D@b\n",
    "    \n",
    "    # Initializing the algorithm\n",
    "    for k in range(n):\n",
    "        x = M @ x + c\n",
    "        \n",
    "        if isinstance(solution, np.ndarray):  # If a solution was given\n",
    "            if (np.isclose(x, solution, atol=atol)).all():  # Check if it iss already next to the solution\n",
    "                return k, x  # If it is, returns how many iterations did it took and the algorithm's solution\n",
    "    \n",
    "    return k, x\n"
   ]
  },
  {
   "cell_type": "markdown",
   "metadata": {},
   "source": [
    "Implementando o método de Gauss:"
   ]
  },
  {
   "cell_type": "code",
   "execution_count": 71,
   "metadata": {},
   "outputs": [],
   "source": [
    "def gauss_seidel(A: np.ndarray, b: np.ndarray, solution: np.ndarray = None, n: int = 100, atol: float = 1e-6) -> tuple[int, np.ndarray]:\n",
    "    \"\"\"This function uses the Gauss Seidel method for computing the solution of the linear system Ax = b.\n",
    "    Remembering that, if the matrix isn't strictly diagonal, the algorithm may not converge to the solution.\n",
    "    And the algorithm converges if, and only if, all eigenvalues of A are less then 1 (This function doesn't\n",
    "    calculate the eigenvalues because it can cost a lot of resources of the computer)\n",
    "\n",
    "    Args:\n",
    "        A (np.ndarray): Squared nxn matrix A\n",
    "        b (np.ndarray): Vector b\n",
    "        n (int, optional): The amout of times the initial guess will be iterated to converge to the solution. Default to 100\n",
    "        atol (float, optional): Define the tolerance of the approximation between the algorithm solution and the real solution (if the solution is passed)\n",
    "        solution (np.ndarray, optional): The result of the system\n",
    "\n",
    "    Raises:\n",
    "        ValueError: Raises if A has 0 in its diagonal\n",
    "        \n",
    "    Returns:\n",
    "        tuple[int, np.ndarray]: Returns how many iterations did it take to get the algorithms sollution and the approximation to the solution of the system\n",
    "    \"\"\"\n",
    "    x = np.zeros(shape=(A.shape[1], 1))\n",
    "\n",
    "    # If the matrix has zeros on its diagonal, it will change the order of lines to make the future\n",
    "    # D matrix invertible\n",
    "    A_diag = np.diag(A)\n",
    "    if 0 in A_diag:\n",
    "        raise ValueError(\"A has 0s in its diagonal!\")\n",
    "    \n",
    "    # Constructing the matrices L, U and D where A = L + D + U\n",
    "    D = np.diag(np.diag(A))\n",
    "    U = np.zeros(shape=A.shape)\n",
    "    L = np.zeros(shape=A.shape)\n",
    "    for j in range(A.shape[1]):  # I'm going throughout all the columns of A\n",
    "        U += np.diag(np.diag(A, j+1), j+1)\n",
    "        L += np.diag(np.diag(A, -(j+1)), -(j+1))\n",
    "    \n",
    "    # Creating the M matrix\n",
    "    G = np.linalg.inv(D + L)\n",
    "    M = -G @ U\n",
    "    d = G @ b\n",
    "\n",
    "    for k in range(n):\n",
    "        x = M @ x + d\n",
    "\n",
    "        if isinstance(solution, np.ndarray):  # If a solution was given\n",
    "            if (np.isclose(x, solution, atol=atol)).all():  # Check if it iss already next to the solution\n",
    "                return k, x  # If it is, returns how many iterations did it took and the algorithm's solution\n",
    "    \n",
    "    return k, x\n"
   ]
  },
  {
   "cell_type": "markdown",
   "metadata": {},
   "source": [
    "#### b) Teste com matrizes $ 2 × 2 $ e $ 3 × 3 $, e compare graficamente a velocidade de convergência dos dois métodos"
   ]
  },
  {
   "cell_type": "code",
   "execution_count": 72,
   "metadata": {},
   "outputs": [],
   "source": [
    "SAMPLES = 150\n",
    "TOTAL_ITERATIONS_FOR_EACH_ALGORITHM = 5000\n",
    "ABSOLUTE_TOLERANCE = 1e-10"
   ]
  },
  {
   "cell_type": "markdown",
   "metadata": {},
   "source": [
    "Vamos gerar 1000 matrizes 2x2 e 3x3 para fazer as comparações"
   ]
  },
  {
   "cell_type": "code",
   "execution_count": 73,
   "metadata": {},
   "outputs": [
    {
     "data": {
      "text/plain": [
       "[]"
      ]
     },
     "execution_count": 73,
     "metadata": {},
     "output_type": "execute_result"
    },
    {
     "data": {
      "image/png": "[encoded data removed]",
      "text/plain": [
       "<Figure size 1200x600 with 2 Axes>"
      ]
     },
     "metadata": {},
     "output_type": "display_data"
    }
   ],
   "source": [
    "# Generating the matrices\n",
    "matrices_2x2 = [ generate_strictly_diagonal_dominant_matrix(2) for _ in range(SAMPLES) ]\n",
    "vectors_2x2 = [ generate_strictly_diagonal_dominant_matrix(2) for _ in range(SAMPLES) ]\n",
    "\n",
    "matrices_3x3 = [ generate_strictly_diagonal_dominant_matrix(3) for _ in range(SAMPLES) ]\n",
    "vectors_3x3 = [ generate_strictly_diagonal_dominant_matrix(3) for _ in range(SAMPLES) ]\n",
    "\n",
    "# Number of iterations for each type of matrix\n",
    "\n",
    "jacobi_iterations_for_2x2_matrices = []\n",
    "gauss_iterations_for_2x2_matrices = []\n",
    "\n",
    "jacobi_iterations_for_3x3_matrices = []\n",
    "gauss_iterations_for_3x3_matrices = []\n",
    "\n",
    "# Calculating the solutions for each matrix generated\n",
    "for k in range(SAMPLES):\n",
    "    # Calculating the actual solutions\n",
    "    solution_2x2_system = np.linalg.inv(matrices_2x2[k]) @ vectors_2x2[k]\n",
    "    solution_3x3_system = np.linalg.inv(matrices_3x3[k]) @ vectors_3x3[k]\n",
    "\n",
    "    # Calculating the solutions using JACOBI's method\n",
    "    iter_jacobi_2x2, _ = jacobi(\n",
    "        matrices_2x2[k],\n",
    "        vectors_2x2[k],\n",
    "        solution_2x2_system,\n",
    "        TOTAL_ITERATIONS_FOR_EACH_ALGORITHM,\n",
    "        ABSOLUTE_TOLERANCE\n",
    "    )\n",
    "    iter_jacobi_3x3, _ = jacobi(\n",
    "        matrices_3x3[k],\n",
    "        vectors_3x3[k],\n",
    "        solution_3x3_system,\n",
    "        TOTAL_ITERATIONS_FOR_EACH_ALGORITHM,\n",
    "        ABSOLUTE_TOLERANCE\n",
    "    )\n",
    "\n",
    "    # Calculating the solutions using GAUSS-SEIDEL's method\n",
    "    iter_gauss_2x2, _ = gauss_seidel(\n",
    "        matrices_2x2[k],\n",
    "        vectors_2x2[k],\n",
    "        solution_2x2_system,\n",
    "        TOTAL_ITERATIONS_FOR_EACH_ALGORITHM,\n",
    "        ABSOLUTE_TOLERANCE\n",
    "    )\n",
    "    iter_gauss_3x3, _ = gauss_seidel(\n",
    "        matrices_3x3[k],\n",
    "        vectors_3x3[k],\n",
    "        solution_3x3_system,\n",
    "        TOTAL_ITERATIONS_FOR_EACH_ALGORITHM,\n",
    "        ABSOLUTE_TOLERANCE\n",
    "    )\n",
    "\n",
    "    # Adding the informations in the array\n",
    "    jacobi_iterations_for_2x2_matrices.append(iter_jacobi_2x2)\n",
    "    jacobi_iterations_for_3x3_matrices.append(iter_jacobi_3x3)\n",
    "\n",
    "    gauss_iterations_for_2x2_matrices.append(iter_gauss_2x2)\n",
    "    gauss_iterations_for_3x3_matrices.append(iter_gauss_3x3)\n",
    "\n",
    "# Making the data\n",
    "means_2x2 = [ np.mean(jacobi_iterations_for_2x2_matrices), np.mean(gauss_iterations_for_2x2_matrices) ]\n",
    "means_3x3 = [ np.mean(jacobi_iterations_for_3x3_matrices), np.mean(gauss_iterations_for_3x3_matrices) ]\n",
    "groups = [ 'JACOBI', 'GAUSS SEIDEL' ]\n",
    "\n",
    "df_2x2 = pd.DataFrame({ 'GROUPS': groups, 'MEANS': means_2x2 })\n",
    "df_3x3 = pd.DataFrame({ 'GROUPS': groups, 'MEANS': means_3x3 })\n",
    "\n",
    "# Plotando as informações\n",
    "fig, axes = plt.subplots(1, 2, figsize=(12,6))\n",
    "plt.suptitle(\"COMPARAÇÃO DE QUANTIADE DE ITERAÇÕES PARA CONVERGÊNCIA ENTRE AMBOS OS ALGORITMOS\")\n",
    "\n",
    "axes[0].set_title('MATRIZES 2X2')\n",
    "axes[1].set_title('MATRIZES 3X3')\n",
    "\n",
    "sns.barplot(data=df_2x2, x='GROUPS', y='MEANS', ax=axes[0])\n",
    "sns.barplot(data=df_3x3, x='GROUPS', y='MEANS', ax=axes[1])\n",
    "\n",
    "plt.subplots_adjust(wspace=0.4)\n",
    "\n",
    "plt.plot()"
   ]
  },
  {
   "cell_type": "markdown",
   "metadata": {},
   "source": [
    "Agora vamos fazer comparando como os algoritmos convergem conforme aumentamos o tamanho das matrizes"
   ]
  },
  {
   "cell_type": "code",
   "execution_count": 74,
   "metadata": {},
   "outputs": [
    {
     "data": {
      "image/png": "[encoded data removed]",
      "text/plain": [
       "<Figure size 640x480 with 1 Axes>"
      ]
     },
     "metadata": {},
     "output_type": "display_data"
    }
   ],
   "source": [
    "# Generating the matrices that will be used (List where i = 0 have the i+1 x i+1 matrix)\n",
    "matrices = [ generate_strictly_diagonal_dominant_matrix(k+1) for k in range(SAMPLES) ]\n",
    "vectors = [ generate_column_vector(k+1) for k in range(SAMPLES) ]\n",
    "\n",
    "jacobi_time_for_each_matrix = []\n",
    "gauss_time_for_each_matrix = []\n",
    "\n",
    "for i in range(SAMPLES):\n",
    "    solution = np.linalg.inv(matrices[i]) @ vectors[i]  # Calculating the solution\n",
    "\n",
    "    iterations_jacobi, _ = jacobi(\n",
    "        matrices[i],\n",
    "        vectors[i],\n",
    "        solution,\n",
    "        TOTAL_ITERATIONS_FOR_EACH_ALGORITHM,\n",
    "        ABSOLUTE_TOLERANCE\n",
    "    )  # Testing the JACOBI method\n",
    "    jacobi_time_for_each_matrix.append(iterations_jacobi)  # Adding the iterations count\n",
    "\n",
    "    iterations_gauss, _ = gauss_seidel(\n",
    "        matrices[i],\n",
    "        vectors[i],\n",
    "        solution,\n",
    "        TOTAL_ITERATIONS_FOR_EACH_ALGORITHM,\n",
    "        ABSOLUTE_TOLERANCE\n",
    "    )  # Testing the GAUSS SEIDEL method\n",
    "    gauss_time_for_each_matrix.append(iterations_gauss)  # Adding the iterations count\n",
    "\n",
    "\n",
    "plt.title(\"COMPARAÇÃO ITERAÇÕES MÉTODO JACOBI E GAUSS-SEIDEL\")\n",
    "x_axis = [x for x in range(SAMPLES)]\n",
    "\n",
    "plt.plot(x_axis, jacobi_time_for_each_matrix, label=\"JACOBI\")\n",
    "plt.plot(x_axis, gauss_time_for_each_matrix, label=\"GAUSS-SEIDEL\")\n",
    "\n",
    "plt.ylabel('Quantas iterações para convergir para a resposta')\n",
    "plt.xlabel('Tamanho da matriz quadrada')\n",
    "\n",
    "plt.legend()\n",
    "plt.show()\n"
   ]
  },
  {
   "cell_type": "markdown",
   "metadata": {},
   "source": [
    "#### c) Compare o erro de Jacobi e Gauss-Seidel para a matriz $ A = \\begin{bmatrix} 1 & 2 & -2 \\\\ 1 & 1 & 1 \\\\ 2 & 2 & 1 \\end{bmatrix} $ e o vetor $ b = \\begin{bmatrix} 1 \\\\ 2 \\\\ 3 \\end{bmatrix} $"
   ]
  },
  {
   "cell_type": "code",
   "execution_count": 75,
   "metadata": {},
   "outputs": [
    {
     "name": "stdout",
     "output_type": "stream",
     "text": [
      "Erro entre a solução de Ax = b com método de Jacobi:\n",
      "[[0.]\n",
      " [0.]\n",
      " [0.]]\n",
      "[[0.]]\n",
      "Erro entre a solução de Ax = b com método de Gauss:\n",
      "[[ 1.86978464e+32]\n",
      " [-1.87612289e+32]\n",
      " [ 1.26765060e+30]]\n",
      "[[2.64879074e+32]]\n"
     ]
    }
   ],
   "source": [
    "ITERATIONS_COUNT = 100\n",
    "\n",
    "A = np.array([[1, 2, -2], [1, 1, 1], [2, 2, 1]]).reshape(3, 3)\n",
    "b = np.array([1, 2, 3]).reshape(-1, 1)\n",
    "\n",
    "solution = np.linalg.inv(A) @ b\n",
    "\n",
    "_, x_jacobi = jacobi(A, b)\n",
    "_, x_gauss = gauss_seidel(A, b)\n",
    "\n",
    "print(\"Erro entre a solução de Ax = b com método de Jacobi:\")\n",
    "err_jacobi = solution - x_jacobi\n",
    "print(err_jacobi)\n",
    "print(np.sqrt(err_jacobi.T @ err_jacobi))\n",
    "\n",
    "print(\"Erro entre a solução de Ax = b com método de Gauss:\")\n",
    "err_gauss = solution - x_gauss\n",
    "print(err_gauss)\n",
    "print(np.sqrt(err_gauss.T @ err_gauss))"
   ]
  },
  {
   "cell_type": "markdown",
   "metadata": {},
   "source": [
    "#### d) O que acontece se você somar uma matriz aleatória à matriz $A$ acima? O que acontece se esta perturbação acontecer apenas na diagonal? Ou apenas fora dela?"
   ]
  },
  {
   "cell_type": "code",
   "execution_count": 76,
   "metadata": {},
   "outputs": [],
   "source": [
    "def test_sum(C):\n",
    "    \"\"\"This function is only for reutilizing code, to make the code blocks smaller\n",
    "\n",
    "    Args:\n",
    "        C (np.ndarray): The matrix that will be summed to A\n",
    "    \"\"\"\n",
    "    try:\n",
    "        N = A + C  # New disturbed matrix\n",
    "\n",
    "        solution = np.linalg.inv(N) @ b\n",
    "\n",
    "        _, x_jacobi = jacobi(N, b)\n",
    "        _, x_gauss = gauss_seidel(N, b)\n",
    "\n",
    "        print(\"Erro entre a solução de Ax = b com método de Jacobi:\")\n",
    "        err_jacobi = solution - x_jacobi\n",
    "        print(err_jacobi)\n",
    "        print(np.sqrt(err_jacobi.T @ err_jacobi))\n",
    "\n",
    "        print(\"Erro entre a solução de Ax = b com método de Gauss:\")\n",
    "        err_gauss = solution - x_gauss\n",
    "        print(err_gauss)\n",
    "        print(np.sqrt(err_gauss.T @ err_gauss))\n",
    "    except np.linalg.LinAlgError:\n",
    "        print(\"A matriz gerada pela soma da matriz aleatória é SINGULAR\")\n",
    "    except ValueError:\n",
    "        print(\"A matriz gerada pela soma possui 0 em sua diagonal\")"
   ]
  },
  {
   "cell_type": "markdown",
   "metadata": {},
   "source": [
    "Vamos primeiro fazer o teste utilizando uma matriz completamente aleatória, sem nenhum tipo de critério"
   ]
  },
  {
   "cell_type": "code",
   "execution_count": 77,
   "metadata": {},
   "outputs": [
    {
     "name": "stdout",
     "output_type": "stream",
     "text": [
      "Erro entre a solução de Ax = b com método de Jacobi:\n",
      "[[-1.70956403e+15]\n",
      " [ 1.33301355e+15]\n",
      " [-1.93508534e+15]]\n",
      "[[2.90587157e+15]]\n",
      "Erro entre a solução de Ax = b com método de Gauss:\n",
      "[[-3.21299999e+33]\n",
      " [-4.65721053e+33]\n",
      " [ 3.21299999e+33]]\n",
      "[[6.50663875e+33]]\n"
     ]
    }
   ],
   "source": [
    "R = np.random.randint(-2, 2, (3, 3))\n",
    "\n",
    "test_sum(R)"
   ]
  },
  {
   "cell_type": "markdown",
   "metadata": {},
   "source": [
    "Percebemos que o erro varia MUITO, podendo ser muito próximo de 0, quanto podendo explodir a resposta da solução, além de fazer com que gere uma diagonal com 0, o que impossibilita fazer ambos os algoritmos, necessitando efetuar trocas de linhas"
   ]
  },
  {
   "cell_type": "markdown",
   "metadata": {},
   "source": [
    "Agora, vamos somar uma matriz estritamente predominante na diagonal para ver o que acontece?"
   ]
  },
  {
   "cell_type": "code",
   "execution_count": 78,
   "metadata": {},
   "outputs": [
    {
     "name": "stdout",
     "output_type": "stream",
     "text": [
      "Erro entre a solução de Ax = b com método de Jacobi:\n",
      "[[0.]\n",
      " [0.]\n",
      " [0.]]\n",
      "[[0.]]\n",
      "Erro entre a solução de Ax = b com método de Gauss:\n",
      "[[ 5.55111512e-17]\n",
      " [-5.55111512e-17]\n",
      " [ 0.00000000e+00]]\n",
      "[[7.85046229e-17]]\n"
     ]
    }
   ],
   "source": [
    "D = generate_strictly_diagonal_dominant_matrix(3, -2, 2)\n",
    "\n",
    "test_sum(D)"
   ]
  },
  {
   "cell_type": "markdown",
   "metadata": {},
   "source": [
    "Como percebemos, os valores se aproximam para 0 da solução, mas porque isso acontece? É bem simples de deduzir que, já que a função gera valores inteiros entre -2 e 2 para a entrada da matriz predominante na diagonal, então a matriz gerada pela soma vai acabar sendo também uma matriz predominante na diagonal, e se eu aumentar o intervalo dos valores possíveis da matriz isso vai ser ainda mais notável:"
   ]
  },
  {
   "cell_type": "code",
   "execution_count": 79,
   "metadata": {},
   "outputs": [
    {
     "name": "stdout",
     "output_type": "stream",
     "text": [
      "Erro entre a solução de Ax = b com método de Jacobi:\n",
      "[[1.38777878e-17]\n",
      " [0.00000000e+00]\n",
      " [1.38777878e-17]]\n",
      "[[1.96261557e-17]]\n",
      "Erro entre a solução de Ax = b com método de Gauss:\n",
      "[[1.38777878e-17]\n",
      " [0.00000000e+00]\n",
      " [1.38777878e-17]]\n",
      "[[1.96261557e-17]]\n"
     ]
    }
   ],
   "source": [
    "D = generate_strictly_diagonal_dominant_matrix(3, -20, 20)\n",
    "\n",
    "test_sum(D)"
   ]
  },
  {
   "cell_type": "markdown",
   "metadata": {},
   "source": [
    "Vamos testar fazendo os mesmos experimentos, porém, adicionando apenas acima da diagonal"
   ]
  },
  {
   "cell_type": "code",
   "execution_count": 80,
   "metadata": {},
   "outputs": [
    {
     "name": "stdout",
     "output_type": "stream",
     "text": [
      "================= ADICIONANDO NA DIAGONAL =================\n",
      "Erro entre a solução de Ax = b com método de Jacobi:\n",
      "[[0.]\n",
      " [0.]\n",
      " [0.]]\n",
      "[[0.]]\n",
      "Erro entre a solução de Ax = b com método de Gauss:\n",
      "[[0.]\n",
      " [0.]\n",
      " [0.]]\n",
      "[[0.]]\n",
      "================= ADICIONANDO ACIMA DA DIAGONAL =================\n",
      "Erro entre a solução de Ax = b com método de Jacobi:\n",
      "[[ 4.86479049e+68]\n",
      " [ 9.27721834e+67]\n",
      " [-2.35644210e+68]]\n",
      "[[5.48449393e+68]]\n",
      "Erro entre a solução de Ax = b com método de Gauss:\n",
      "[[-4.68841614e+89]\n",
      " [ 3.23339044e+89]\n",
      " [ 2.91005139e+89]]\n",
      "[[6.39565937e+89]]\n",
      "================= ADICIONANDO ABAIXO DA DIAGONAL =================\n",
      "Erro entre a solução de Ax = b com método de Jacobi:\n",
      "[[-2.38098816e+51]\n",
      " [-2.35689361e+50]\n",
      " [ 3.05493772e+50]]\n",
      "[[2.41204903e+51]]\n",
      "Erro entre a solução de Ax = b com método de Gauss:\n",
      "[[-7.72067100e+163]\n",
      " [ 3.39982523e+164]\n",
      " [-1.42224146e+165]]\n",
      "[[inf]]\n"
     ]
    },
    {
     "name": "stderr",
     "output_type": "stream",
     "text": [
      "/tmp/ipykernel_26384/152376997.py:23: RuntimeWarning: overflow encountered in matmul\n",
      "  print(np.sqrt(err_gauss.T @ err_gauss))\n"
     ]
    }
   ],
   "source": [
    "M = np.random.randint(-10, 10, (3, 3))\n",
    "D = np.diag(np.diag(M))\n",
    "U = np.zeros(M.shape)\n",
    "L = np.zeros(M.shape)\n",
    "\n",
    "for j in range(U.shape[1]):\n",
    "    U += np.diag(np.diag(M, j+1), j+1)\n",
    "    L += np.diag(np.diag(M, -(j+1)), -(j+1))\n",
    "\n",
    "print(\"================= ADICIONANDO NA DIAGONAL =================\")\n",
    "test_sum(D)\n",
    "\n",
    "print(\"================= ADICIONANDO ACIMA DA DIAGONAL =================\")\n",
    "test_sum(U)\n",
    "\n",
    "print(\"================= ADICIONANDO ABAIXO DA DIAGONAL =================\")\n",
    "test_sum(L)\n"
   ]
  },
  {
   "cell_type": "markdown",
   "metadata": {},
   "source": [
    "Perceba que varia MUITO, porém, quando pertubamos os valores apenas na diagonal, principalmente para valores grandes, a tendência é que o sistema $(A+D)x = b$ tende a CONVERGIR em ambos os algoritmos, tendo em vista que a chance de ter valores maiores na diagonal é MUITO MAIOR"
   ]
  },
  {
   "cell_type": "markdown",
   "metadata": {},
   "source": [
    "#### e) O erro no método de Jacobi aplicado à matriz $ A = \\begin{bmatrix} 1 & 0 & 1 \\\\ -1 & 1 & 0 \\\\ 1 & 2 & -3 \\end{bmatrix} $ converge para 0, mas o de Gauss-Seidel mantém o erro constante. Explique o porquê"
   ]
  },
  {
   "cell_type": "markdown",
   "metadata": {},
   "source": [
    "Dada a matriz $A$, e seja $A = L + U + D$, onde $ L = \\begin{bmatrix} 0 & 0 & 0 \\\\ -1 & 0 & 0 \\\\ 1 & 2 & 0 \\end{bmatrix} $, $ U = \\begin{bmatrix} 0 & 0 & 1 \\\\ 0 & 0 & 0 \\\\ 0 & 0 & 0 \\end{bmatrix} $ e $ D = \\begin{bmatrix} 1 & 0 & 0 \\\\ 0 & 1 & 0 \\\\ 0 & 0 & -3 \\end{bmatrix} $, então o valor de x na k-ésima iteração de cada algoritmo é:\n",
    "\n",
    "**Jacobi**:\n",
    "$$\n",
    "x_{k+1} = M_jx_k + c\n",
    "$$\n",
    "\n",
    "onde $ M_j = -D^{-1}(L+U) $ e $ c = D^{-1}b $\n",
    "\n",
    "**Gauss**:\n",
    "$$\n",
    "x_{k+1} = M_gx_k + d\n",
    "$$\n",
    "\n",
    "onde $ M_g = -(D+L)^{-1}U $ e $d = (D+L)^{-1}b$\n",
    "\n",
    "E temos um teorema que diz que, diz:\n",
    "\n",
    "Jacobi converte $\\Leftrightarrow \\lambda(M_j) \\lt 1$\n",
    "\n",
    "Gauss converte $\\Leftrightarrow \\lambda(M_g) \\lt 1$\n",
    "\n",
    "Vamos então calcular tanto os autovalores de $M_j$ e $M_g$"
   ]
  },
  {
   "cell_type": "code",
   "execution_count": 81,
   "metadata": {},
   "outputs": [
    {
     "name": "stdout",
     "output_type": "stream",
     "text": [
      "======== Mj ========\n",
      "[[ 0.          0.         -1.        ]\n",
      " [ 1.          0.          0.        ]\n",
      " [ 0.33333333  0.66666667  0.        ]]\n",
      "======== Mg ========\n",
      "[[ 0.  0. -1.]\n",
      " [ 0.  0. -1.]\n",
      " [ 0.  0. -1.]]\n"
     ]
    }
   ],
   "source": [
    "A = np.array([1, 0, 1, -1, 1, 0, 1, 2, -3]).reshape(3,3)\n",
    "L = np.zeros(A.shape)\n",
    "U = np.zeros(A.shape)\n",
    "D = np.diag(np.diag(A))\n",
    "\n",
    "for j in range(A.shape[0]):\n",
    "    U += np.diag(np.diag(A, j+1), j+1)\n",
    "    L += np.diag(np.diag(A, -(j+1)), -(j+1))\n",
    "\n",
    "M_j = -np.linalg.inv(D) @ (L+U)\n",
    "M_g = -np.linalg.inv(D+L) @ U\n",
    "\n",
    "print(\"======== Mj ========\")\n",
    "print(M_j)\n",
    "\n",
    "print(\"======== Mg ========\")\n",
    "print(M_g)"
   ]
  },
  {
   "cell_type": "markdown",
   "metadata": {},
   "source": [
    "Temos então que $M_j = \\begin{bmatrix} 0 & 0 & -1 \\\\ 1 & 0 & 0 \\\\ \\frac{1}{3} & \\frac{2}{3} & 0 \\end{bmatrix}$, $M_g = \\begin{bmatrix} 0 & 0 & -1 \\\\ 0 & 0 & -1 \\\\ 0 & 0 & -1 \\end{bmatrix}$. E quais são os autovalores de ambas as matrizes?"
   ]
  },
  {
   "cell_type": "code",
   "execution_count": 82,
   "metadata": {},
   "outputs": [
    {
     "name": "stdout",
     "output_type": "stream",
     "text": [
      "========= AUTOVALORES DE Mj =========\n",
      "[ 0.37370763+0.86735546j  0.37370763-0.86735546j -0.74741525+0.j        ]\n",
      "========= AUTOVALORES DE Mg =========\n",
      "[ 0.  0. -1.]\n"
     ]
    }
   ],
   "source": [
    "print(\"========= AUTOVALORES DE Mj =========\")\n",
    "print(np.linalg.eig(M_j).eigenvalues)\n",
    "\n",
    "print(\"========= AUTOVALORES DE Mg =========\")\n",
    "print(np.linalg.eig(M_g).eigenvalues)"
   ]
  },
  {
   "cell_type": "markdown",
   "metadata": {},
   "source": [
    "Perceba que os autovalores de $M_g$ não são menores que 1, o que, pelo teorema, faz com que o algoritmo não converge, e ainda mais, como um de seus autovalores é $-1$, o erro não sai do lugar, nem aumenta, nem diminui"
   ]
  },
  {
   "cell_type": "markdown",
   "metadata": {},
   "source": [
    "#### f) Será que você consegue, a partir da matriz A, construir uma matriz em que o erro do método de Jacobi vai para zero, enquanto que o erro do método de Gauss-Seidel diverge para $+\\infty$?"
   ]
  },
  {
   "cell_type": "markdown",
   "metadata": {},
   "source": [
    "Dada uma matriz $A = L + D + U$ com as mesmas propriedades já citadas nos itens anteriores, temos, novamente, que na (k+1)-ésima iteração, x é igual a:\n",
    "\n",
    "**Jacobi**:\n",
    "$$\n",
    "x_{k+1} = M_jx_k + c\n",
    "$$\n",
    "\n",
    "onde $ M_j = -D^{-1}(L+U) $ e $ c = D^{-1}b $\n",
    "\n",
    "**Gauss**:\n",
    "$$\n",
    "x_{k+1} = M_gx_k + d\n",
    "$$\n",
    "\n",
    "onde $ M_g = -(D+L)^{-1}U $ e $d = (D+L)^{-1}b$\n",
    "\n",
    "Dado que $x$ é a solução do sistema, queremos que $\\|x - x_{k+1}\\| \\rightarrow 0$ para Jacobi e $\\|x - x_{k+1}\\| \\rightarrow +\\infty$ para Gauss-Seidel, então:\n",
    "\n",
    "**Jacobi**:\n",
    "$$\n",
    "\\|x-x_{k+1}\\| = \\|M_jx - c - (M_jx_k - c)\\| = \\|M_j(x - x_k)\\| \\le \\|M_j\\|\\|x - x_k\\|\n",
    "$$\n",
    "Logo, queremos que $\\|M_j\\| \\lt 1$, então separamos:\n",
    "$$\n",
    "\\|M_j\\| = \\|-D^{-1}(L+U)\\| \\le \\|D^{-1}\\|\\|(L+U)\\|\n",
    "$$\n",
    "Ou seja, podemos tentar tender a norma de $D^{-1}$ ou de $L+U$ para 0! Vamos ver o que podemos fazer para Gauss-Seidel ir ao infinito e podermos conciliar com o objetivo da questão\n",
    "\n",
    "**Gauss**:\n",
    "$$\n",
    "\\|x-x_{k+1}\\| = \\|M_gx - c - (M_gx_k - c)\\| = \\|M_g(x - x_k)\\| \\le \\|M_g\\|\\|x - x_k\\|\n",
    "\\\\\n",
    "\\|M_g\\| = \\|-(D+L)^{-1}U\\| \\le \\|(D+L)^{-1}\\|\\|U\\|\n",
    "$$\n",
    "\n",
    "A partir disso, podemos obter um insight sobre o que podemos fazer para gerar uma matriz que converge para Jacobi e diverge para Gauss. Vamos analisar! Podemos tender $D$ para valores grandes, pois dessa forma $\\|D^{-1}\\|_2 \\rightarrow 0$, pois:\n",
    "$$\n",
    "\\|D^{-1}\\|_2 = \\frac{1}{\\sigma_{min}(D)}\n",
    "$$\n",
    "Utilizando então da norma 2, podemos fazer isso para fazer Jacobi ir para 0 e, aumentando $U$, podemos fazer com que Gauss possa divergir, porém, se aumentamos $D$, também diminuimos $\\|(D+L)^{-1}\\|_2$, então temos que aumentar a diagonal de uma forma *\"mais lenta\"* que aumentamos acima dela. Vamos fazer alguns testes!"
   ]
  },
  {
   "cell_type": "markdown",
   "metadata": {},
   "source": [
    "Veja abaixo, eu fiz um teste usando $AA^*$, pois a diagonal de uma matriz desse tipo costuma ter valores maiores, pois:\n",
    "$a_{ii} = \\sum_{k=1}^na_{ik}^2$, vamos conferir, mesmo que nem todos os valores da diagonais sejam muito grandes, se tem valores razoavelmente grandes ou muitos valores grandes:"
   ]
  },
  {
   "cell_type": "code",
   "execution_count": 83,
   "metadata": {},
   "outputs": [
    {
     "data": {
      "text/plain": [
       "(array([[ 1,  0,  1],\n",
       "        [-1,  1,  0],\n",
       "        [ 1,  2, -3]]),\n",
       " array([[ 2, -1, -2],\n",
       "        [-1,  2,  1],\n",
       "        [-2,  1, 14]]))"
      ]
     },
     "execution_count": 83,
     "metadata": {},
     "output_type": "execute_result"
    }
   ],
   "source": [
    "A, A @ A.T"
   ]
  },
  {
   "cell_type": "markdown",
   "metadata": {},
   "source": [
    "Vemos que $AA^*$ tem valor 14 na diagonal e os valores na diagonal não são tão pequenos se comparados às outras entradas, então é razoável utilizar-mos $AA^*$. Conseguimos obter o resultado desejado fazendo a matriz $N = AA^* + 20A$"
   ]
  },
  {
   "cell_type": "code",
   "execution_count": 84,
   "metadata": {},
   "outputs": [
    {
     "data": {
      "text/plain": [
       "array([[ 22,  -1,  18],\n",
       "       [-21,  22,   1],\n",
       "       [ 18,  41, -46]])"
      ]
     },
     "execution_count": 84,
     "metadata": {},
     "output_type": "execute_result"
    }
   ],
   "source": [
    "N = A @ A.T + 20*A\n",
    "\n",
    "L = np.zeros(N.shape)\n",
    "U = np.zeros(N.shape)\n",
    "D = np.diag(np.diag(N))\n",
    "\n",
    "for j in range(N.shape[0]):\n",
    "    U += np.diag(np.diag(N, j+1), j+1)\n",
    "    L += np.diag(np.diag(N, -(j+1)), -(j+1))\n",
    "\n",
    "M_j = -np.linalg.inv(D) @ (U+L)\n",
    "\n",
    "H = np.linalg.inv(D+L)\n",
    "M_g = -H @ U\n",
    "\n",
    "N"
   ]
  },
  {
   "cell_type": "code",
   "execution_count": 85,
   "metadata": {},
   "outputs": [
    {
     "name": "stdout",
     "output_type": "stream",
     "text": [
      "Módulo dos autovalores de Mj\n",
      "0.9525189921713721\n",
      "0.9525189921713721\n",
      "0.7681203834297978\n",
      "Módulo dos autovalores de Mg\n",
      "0.0\n",
      "0.0007984306848709544\n",
      "1.0125864058224954\n"
     ]
    }
   ],
   "source": [
    "print(\"Módulo dos autovalores de Mj\")\n",
    "for eigenvalue in np.linalg.eig(M_j).eigenvalues:\n",
    "    print(abs(eigenvalue))\n",
    "\n",
    "print(\"Módulo dos autovalores de Mg\")\n",
    "for eigenvalue in np.linalg.eig(M_g).eigenvalues:\n",
    "    print(abs(eigenvalue))"
   ]
  },
  {
   "cell_type": "code",
   "execution_count": 86,
   "metadata": {},
   "outputs": [
    {
     "name": "stdout",
     "output_type": "stream",
     "text": [
      "====== RESOLVENDO Ax = b ======\n",
      "[[0.01917759]\n",
      " [0.10748372]\n",
      " [0.03808759]]\n",
      "[[0.01917759]\n",
      " [0.10748372]\n",
      " [0.03808759]]\n",
      "[[-7055.35432518]\n",
      " [-7144.34972086]\n",
      " [-9128.64600888]]\n"
     ]
    }
   ],
   "source": [
    "b = np.array([1,2,3]).reshape(-1, 1)\n",
    "_, x_jacobi = jacobi(N, b, n=1000, atol=1e-10)\n",
    "_, x_gauss = gauss_seidel(N, b, n=1000, atol=1e-10)\n",
    "\n",
    "solution = np.linalg.inv(N) @ b\n",
    "\n",
    "print(\"====== RESOLVENDO Ax = b ======\")\n",
    "print(solution)\n",
    "\n",
    "print(x_jacobi)\n",
    "print(x_gauss)"
   ]
  }
 ],
 "metadata": {
  "kernelspec": {
   "display_name": "venv",
   "language": "python",
   "name": "python3"
  },
  "language_info": {
   "codemirror_mode": {
    "name": "ipython",
    "version": 3
   },
   "file_extension": ".py",
   "mimetype": "text/x-python",
   "name": "python",
   "nbconvert_exporter": "python",
   "pygments_lexer": "ipython3",
   "version": "3.12.3"
  }
 },
 "nbformat": 4,
 "nbformat_minor": 2
}
