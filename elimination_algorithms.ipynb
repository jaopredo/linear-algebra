{
 "cells": [
  {
   "cell_type": "markdown",
   "metadata": {},
   "source": [
    "Importação das bibliotecas"
   ]
  },
  {
   "cell_type": "code",
   "execution_count": 124,
   "metadata": {},
   "outputs": [],
   "source": [
    "import numpy as np\n",
    "import warnings\n",
    "import matplotlib.pyplot as plt\n",
    "from randomness import generate_column_vector, generate_invertible_matrix, generate_strictly_diagonal_dominant_matrix\n",
    "from utils import is_strictly_diagonal_dominant"
   ]
  },
  {
   "cell_type": "markdown",
   "metadata": {},
   "source": [
    "# Projeto 1\n",
    "Implementação dos algoritmos de eliminação gaussiana aprendidos (Jacob e Gauss)\n",
    "\n",
    "## Questões\n",
    "### 1ª Questão\n",
    "#### a ) Implemente os métodos de Jacobi e Gauss-Seidel para resolver o sistema linear $ Ax = b $"
   ]
  },
  {
   "cell_type": "markdown",
   "metadata": {},
   "source": [
    "Implementando o método de Jacobi:"
   ]
  },
  {
   "cell_type": "code",
   "execution_count": 125,
   "metadata": {},
   "outputs": [],
   "source": [
    "def jacobi(A: np.ndarray, b: np.ndarray, solution: np.ndarray = None, n: int = 100, atol: float = 1e-6) -> tuple[int, np.ndarray]:\n",
    "    \"\"\"This function uses the Jacobi method for computing the solution of the linear system Ax = b.\n",
    "    Remembering that, if the matrix isn't strictly diagonal, the algorithm may not converge to the solution.\n",
    "    And the algorithm converges if, and only if, all eigenvalues of A are less then 1 (This function doesn't\n",
    "    calculate the eigenvalues because it can cost a lot of resources of the computer).\n",
    "\n",
    "    Args:\n",
    "        A (np.ndarray): Squared nxn matrix A\n",
    "        b (np.ndarray): Vector b\n",
    "        n (int, optional): The amout of times the initial guess will be iterated to converge to the solution. Default to 100\n",
    "        atol (float, optional): Define the tolerance of the approximation between the algorithm solution and the real solution (if the solution is passed)\n",
    "        solution (np.ndarray, optional): The result of the system\n",
    "\n",
    "    Raises:\n",
    "        ValueError: Raises if A has 0 in its diagonal\n",
    "        \n",
    "    Returns:\n",
    "        tuple[int, np.ndarray]: Returns how many iterations did it take to get the algorithms sollution and the approximation to the solution of the system\n",
    "    \"\"\"\n",
    "    x = np.zeros(shape=(A.shape[1], 1))\n",
    "\n",
    "    # If the matrix has zeros on its diagonal, it will change the order of lines to make the future\n",
    "    # D matrix invertible\n",
    "    A_diag = np.diag(A)\n",
    "    if 0 in A_diag:\n",
    "        raise ValueError(\"A has 0s in its diagonal!\")\n",
    "    \n",
    "    # Constructing the matrices L, U and D where A = L + D + U\n",
    "    D = np.diag(np.diag(A))\n",
    "    U = np.zeros(shape=A.shape)\n",
    "    L = np.zeros(shape=A.shape)\n",
    "    for j in range(A.shape[1]):  # I'm going throughout all the columns of A\n",
    "        U += np.diag(np.diag(A, j+1), j+1)\n",
    "        L += np.diag(np.diag(A, -(j+1)), -(j+1))\n",
    "    \n",
    "    # Creating the M matrix and c vector (M = -D/(L+U), c = D/b)\n",
    "    inverse_of_D = np.linalg.inv(D)\n",
    "    M = -inverse_of_D@(L+U)\n",
    "    c = inverse_of_D@b\n",
    "    \n",
    "    # Initializing the algorithm\n",
    "    for k in range(n):\n",
    "        x = M @ x + c\n",
    "        \n",
    "        if isinstance(solution, np.ndarray):  # If a solution was given\n",
    "            if (np.isclose(x, solution, atol=atol)).all():  # Check if it iss already next to the solution\n",
    "                return k, x  # If it is, returns how many iterations did it took and the algorithm's solution\n",
    "    \n",
    "    return k, x\n"
   ]
  },
  {
   "cell_type": "markdown",
   "metadata": {},
   "source": [
    "Implementando o método de Gauss:"
   ]
  },
  {
   "cell_type": "code",
   "execution_count": 126,
   "metadata": {},
   "outputs": [],
   "source": [
    "def gauss_seidel(A: np.ndarray, b: np.ndarray, solution: np.ndarray = None, n: int = 100, atol: float = 1e-6) -> tuple[int, np.ndarray]:\n",
    "    \"\"\"This function uses the Gauss Seidel method for computing the solution of the linear system Ax = b.\n",
    "    Remembering that, if the matrix isn't strictly diagonal, the algorithm may not converge to the solution.\n",
    "    And the algorithm converges if, and only if, all eigenvalues of A are less then 1 (This function doesn't\n",
    "    calculate the eigenvalues because it can cost a lot of resources of the computer)\n",
    "\n",
    "    Args:\n",
    "        A (np.ndarray): Squared nxn matrix A\n",
    "        b (np.ndarray): Vector b\n",
    "        n (int, optional): The amout of times the initial guess will be iterated to converge to the solution. Default to 100\n",
    "        atol (float, optional): Define the tolerance of the approximation between the algorithm solution and the real solution (if the solution is passed)\n",
    "        solution (np.ndarray, optional): The result of the system\n",
    "\n",
    "    Raises:\n",
    "        ValueError: Raises if A has 0 in its diagonal\n",
    "        \n",
    "    Returns:\n",
    "        tuple[int, np.ndarray]: Returns how many iterations did it take to get the algorithms sollution and the approximation to the solution of the system\n",
    "    \"\"\"\n",
    "    x = np.zeros(shape=(A.shape[1], 1))\n",
    "\n",
    "    # If the matrix has zeros on its diagonal, it will change the order of lines to make the future\n",
    "    # D matrix invertible\n",
    "    A_diag = np.diag(A)\n",
    "    if 0 in A_diag:\n",
    "        raise ValueError(\"A has 0s in its diagonal!\")\n",
    "    \n",
    "    # Constructing the matrices L, U and D where A = L + D + U\n",
    "    D = np.diag(np.diag(A))\n",
    "    U = np.zeros(shape=A.shape)\n",
    "    L = np.zeros(shape=A.shape)\n",
    "    for j in range(A.shape[1]):  # I'm going throughout all the columns of A\n",
    "        U += np.diag(np.diag(A, j+1), j+1)\n",
    "        L += np.diag(np.diag(A, -(j+1)), -(j+1))\n",
    "    \n",
    "    # Creating the M matrix\n",
    "    G = np.linalg.inv(D + L)\n",
    "    M = -G @ U\n",
    "    d = G @ b\n",
    "\n",
    "    for k in range(n):\n",
    "        x = M @ x + d\n",
    "\n",
    "        if isinstance(solution, np.ndarray):  # If a solution was given\n",
    "            if (np.isclose(x, solution, atol=atol)).all():  # Check if it iss already next to the solution\n",
    "                return k, x  # If it is, returns how many iterations did it took and the algorithm's solution\n",
    "    \n",
    "    return k, x\n"
   ]
  },
  {
   "cell_type": "markdown",
   "metadata": {},
   "source": [
    "#### b) Teste com matrizes $ 2 × 2 $ e $ 3 × 3 $, e compare graficamente a velocidade de convergência dos dois métodos"
   ]
  },
  {
   "cell_type": "code",
   "execution_count": 127,
   "metadata": {},
   "outputs": [
    {
     "data": {
      "image/png": "[encoded data removed]",
      "text/plain": [
       "<Figure size 640x480 with 1 Axes>"
      ]
     },
     "metadata": {},
     "output_type": "display_data"
    }
   ],
   "source": [
    "SAMPLES = 150\n",
    "TOTAL_ITERATIONS_FOR_EACH_ALGORITHM = 5000\n",
    "ABSOLUTE_TOLERANCE = 1e-10\n",
    "\n",
    "# Generating the matrices that will be used (List where i = 0 have the i+1 x i+1 matrix)\n",
    "matrices = [ generate_strictly_diagonal_dominant_matrix(k+1) for k in range(SAMPLES) ]\n",
    "vectors = [ generate_column_vector(k+1) for k in range(SAMPLES) ]\n",
    "\n",
    "jacobi_time_for_each_matrix = []\n",
    "gauss_time_for_each_matrix = []\n",
    "\n",
    "for i in range(SAMPLES):\n",
    "    solution = np.linalg.inv(matrices[i]) @ vectors[i]  # Calculating the solution\n",
    "\n",
    "    iterations_jacobi, _ = jacobi(\n",
    "        matrices[i],\n",
    "        vectors[i],\n",
    "        solution,\n",
    "        TOTAL_ITERATIONS_FOR_EACH_ALGORITHM,\n",
    "        ABSOLUTE_TOLERANCE\n",
    "    )  # Testing the JACOBI method\n",
    "    jacobi_time_for_each_matrix.append(iterations_jacobi)  # Adding the iterations count\n",
    "\n",
    "    iterations_gauss, _ = gauss_seidel(\n",
    "        matrices[i],\n",
    "        vectors[i],\n",
    "        solution,\n",
    "        TOTAL_ITERATIONS_FOR_EACH_ALGORITHM,\n",
    "        ABSOLUTE_TOLERANCE\n",
    "    )  # Testing the GAUSS SEIDEL method\n",
    "    gauss_time_for_each_matrix.append(iterations_gauss)  # Adding the iterations count\n",
    "\n",
    "\n",
    "plt.title(\"COMPARAÇÃO ITERAÇÕES MÉTODO JACOBI E GAUSS-SEIDEL\")\n",
    "x_axis = [x for x in range(SAMPLES)]\n",
    "\n",
    "plt.plot(x_axis, jacobi_time_for_each_matrix, label=\"JACOBI\")\n",
    "plt.plot(x_axis, gauss_time_for_each_matrix, label=\"GAUSS-SEIDEL\")\n",
    "\n",
    "plt.ylabel('Quantas iterações para convergir para a resposta')\n",
    "plt.xlabel('Tamanho da matriz quadrada')\n",
    "\n",
    "plt.legend()\n",
    "plt.show()\n"
   ]
  },
  {
   "cell_type": "markdown",
   "metadata": {},
   "source": [
    "#### c) Compare o erro de Jacobi e Gauss-Seidel para a matriz $ A = \\begin{bmatrix} 1 & 2 & -2 \\\\ 1 & 1 & 1 \\\\ 2 & 2 & 1 \\end{bmatrix} $ e o vetor $ b = \\begin{bmatrix} 1 \\\\ 2 \\\\ 3 \\end{bmatrix} $"
   ]
  },
  {
   "cell_type": "code",
   "execution_count": 140,
   "metadata": {},
   "outputs": [
    {
     "name": "stdout",
     "output_type": "stream",
     "text": [
      "Erro entre a solução de Ax = b com método de Jacobi:\n",
      "[[0.]\n",
      " [0.]\n",
      " [0.]]\n",
      "[[0.]]\n",
      "Erro entre a solução de Ax = b com método de Gauss:\n",
      "[[ 1.86978464e+32]\n",
      " [-1.87612289e+32]\n",
      " [ 1.26765060e+30]]\n",
      "[[2.64879074e+32]]\n"
     ]
    }
   ],
   "source": [
    "ITERATIONS_COUNT = 100\n",
    "\n",
    "A = np.array([[1, 2, -2], [1, 1, 1], [2, 2, 1]]).reshape(3, 3)\n",
    "b = np.array([1, 2, 3]).reshape(-1, 1)\n",
    "\n",
    "solution = np.linalg.inv(A) @ b\n",
    "\n",
    "_, x_jacobi = jacobi(A, b)\n",
    "_, x_gauss = gauss_seidel(A, b)\n",
    "\n",
    "print(\"Erro entre a solução de Ax = b com método de Jacobi:\")\n",
    "err_jacobi = solution - x_jacobi\n",
    "print(err_jacobi)\n",
    "print(np.sqrt(err_jacobi.T @ err_jacobi))\n",
    "\n",
    "print(\"Erro entre a solução de Ax = b com método de Gauss:\")\n",
    "err_gauss = solution - x_gauss\n",
    "print(err_gauss)\n",
    "print(np.sqrt(err_gauss.T @ err_gauss))"
   ]
  },
  {
   "cell_type": "markdown",
   "metadata": {},
   "source": [
    "#### d) O que acontece se você somar uma matriz aleatória à matriz $A$ acima? O que acontece se esta perturbação acontecer apenas na diagonal? Ou apenas fora dela?"
   ]
  },
  {
   "cell_type": "code",
   "execution_count": 151,
   "metadata": {},
   "outputs": [],
   "source": [
    "def test_sum(C):\n",
    "    \"\"\"This function is only for reutilizing code, to make the code blocks smaller\n",
    "\n",
    "    Args:\n",
    "        C (np.ndarray): The matrix that will be summed to A\n",
    "    \"\"\"\n",
    "    try:\n",
    "        N = A + C  # New disturbed matrix\n",
    "\n",
    "        solution = np.linalg.inv(N) @ b\n",
    "\n",
    "        _, x_jacobi = jacobi(N, b)\n",
    "        _, x_gauss = gauss_seidel(N, b)\n",
    "\n",
    "        print(\"Erro entre a solução de Ax = b com método de Jacobi:\")\n",
    "        err_jacobi = solution - x_jacobi\n",
    "        print(err_jacobi)\n",
    "        print(np.sqrt(err_jacobi.T @ err_jacobi))\n",
    "\n",
    "        print(\"Erro entre a solução de Ax = b com método de Gauss:\")\n",
    "        err_gauss = solution - x_gauss\n",
    "        print(err_gauss)\n",
    "        print(np.sqrt(err_gauss.T @ err_gauss))\n",
    "    except np.linalg.LinAlgError:\n",
    "        print(\"A matriz gerada pela soma da matriz aleatória é SINGULAR\")\n",
    "    except ValueError:\n",
    "        print(\"A matriz gerada pela soma possui 0 em sua diagonal\")"
   ]
  },
  {
   "cell_type": "markdown",
   "metadata": {},
   "source": [
    "Vamos primeiro fazer o teste utilizando uma matriz completamente aleatória, sem nenhum tipo de critério"
   ]
  },
  {
   "cell_type": "code",
   "execution_count": null,
   "metadata": {},
   "outputs": [
    {
     "name": "stdout",
     "output_type": "stream",
     "text": [
      "Erro entre a solução de Ax = b com método de Jacobi:\n",
      "[[ 6.22792703e+25]\n",
      " [-5.97983536e+25]\n",
      " [ 1.57501038e+25]]\n",
      "[[8.77645508e+25]]\n",
      "Erro entre a solução de Ax = b com método de Gauss:\n",
      "[[ 3.41668820e+63]\n",
      " [-5.88774526e+63]\n",
      " [ 4.17940116e+63]]\n",
      "[[7.9879094e+63]]\n"
     ]
    }
   ],
   "source": [
    "R = np.random.randint(-2, 2, (3, 3))\n",
    "\n",
    "test_sum(R)"
   ]
  },
  {
   "cell_type": "markdown",
   "metadata": {},
   "source": [
    "Percebemos que o erro varia MUITO, podendo ser muito próximo de 0, quanto podendo explodir a resposta da solução, além de fazer com que gere uma diagonal com 0, o que impossibilita fazer ambos os algoritmos, necessitando efetuar trocas de linhas"
   ]
  },
  {
   "cell_type": "markdown",
   "metadata": {},
   "source": [
    "Agora, vamos somar uma matriz estritamente predominante na diagonal para ver o que acontece?"
   ]
  },
  {
   "cell_type": "code",
   "execution_count": 157,
   "metadata": {},
   "outputs": [
    {
     "name": "stdout",
     "output_type": "stream",
     "text": [
      "Erro entre a solução de Ax = b com método de Jacobi:\n",
      "[[ 0.00000000e+00]\n",
      " [-2.77555756e-17]\n",
      " [-1.11022302e-16]]\n",
      "[[1.1443917e-16]]\n",
      "Erro entre a solução de Ax = b com método de Gauss:\n",
      "[[ 0.00000000e+00]\n",
      " [-5.55111512e-17]\n",
      " [-1.11022302e-16]]\n",
      "[[1.24126708e-16]]\n"
     ]
    }
   ],
   "source": [
    "D = generate_strictly_diagonal_dominant_matrix(3, -2, 2)\n",
    "\n",
    "test_sum(D)"
   ]
  },
  {
   "cell_type": "markdown",
   "metadata": {},
   "source": [
    "Como percebemos, os valores se aproximam para 0 da solução, mas porque isso acontece? É bem simples de deduzir que, já que a função gera valores inteiros entre -2 e 2 para a entrada da matriz predominante na diagonal, então a matriz gerada pela soma vai acabar sendo também uma matriz predominante na diagonal, e se eu aumentar o intervalo dos valores possíveis da matriz isso vai ser ainda mais notável:"
   ]
  },
  {
   "cell_type": "code",
   "execution_count": 166,
   "metadata": {},
   "outputs": [
    {
     "name": "stdout",
     "output_type": "stream",
     "text": [
      "Erro entre a solução de Ax = b com método de Jacobi:\n",
      "[[2.08166817e-17]\n",
      " [1.38777878e-17]\n",
      " [0.00000000e+00]]\n",
      "[[2.50185378e-17]]\n",
      "Erro entre a solução de Ax = b com método de Gauss:\n",
      "[[2.08166817e-17]\n",
      " [1.38777878e-17]\n",
      " [0.00000000e+00]]\n",
      "[[2.50185378e-17]]\n"
     ]
    }
   ],
   "source": [
    "D = generate_strictly_diagonal_dominant_matrix(3, -20, 20)\n",
    "\n",
    "test_sum(D)"
   ]
  },
  {
   "cell_type": "markdown",
   "metadata": {},
   "source": [
    "Vamos testar fazendo os mesmos experimentos, porém, adicionando apenas acima da diagonal"
   ]
  },
  {
   "cell_type": "code",
   "execution_count": 199,
   "metadata": {},
   "outputs": [
    {
     "name": "stdout",
     "output_type": "stream",
     "text": [
      "================= ADICIONANDO NA DIAGONAL =================\n",
      "Erro entre a solução de Ax = b com método de Jacobi:\n",
      "[[-5.55111512e-17]\n",
      " [ 0.00000000e+00]\n",
      " [-1.11022302e-16]]\n",
      "[[1.24126708e-16]]\n",
      "Erro entre a solução de Ax = b com método de Gauss:\n",
      "[[-2.77555756e-17]\n",
      " [-5.55111512e-17]\n",
      " [-5.55111512e-17]]\n",
      "[[8.32667268e-17]]\n",
      "================= ADICIONANDO ACIMA DA DIAGONAL =================\n",
      "Erro entre a solução de Ax = b com método de Jacobi:\n",
      "[[ 1.30487351e+64]\n",
      " [-5.29910698e+63]\n",
      " [-1.86232470e+63]]\n",
      "[[1.4206276e+64]]\n",
      "Erro entre a solução de Ax = b com método de Gauss:\n",
      "[[ 9.25925926e+98]\n",
      " [-1.48148148e+99]\n",
      " [ 1.11111111e+99]]\n",
      "[[2.07043331e+99]]\n",
      "================= ADICIONANDO ABAIXO DA DIAGONAL =================\n",
      "Erro entre a solução de Ax = b com método de Jacobi:\n",
      "[[1.02883519e+65]\n",
      " [2.96811250e+65]\n",
      " [8.17578792e+64]]\n",
      "[[3.24601737e+65]]\n",
      "Erro entre a solução de Ax = b com método de Gauss:\n",
      "[[ 8.35768811e+195]\n",
      " [ 7.17954215e+196]\n",
      " [-3.25546355e+197]]\n",
      "[[inf]]\n"
     ]
    },
    {
     "name": "stderr",
     "output_type": "stream",
     "text": [
      "/tmp/ipykernel_10431/152376997.py:23: RuntimeWarning: overflow encountered in matmul\n",
      "  print(np.sqrt(err_gauss.T @ err_gauss))\n"
     ]
    }
   ],
   "source": [
    "M = np.random.randint(-10, 10, (3, 3))\n",
    "D = np.diag(np.diag(M))\n",
    "U = np.zeros(M.shape)\n",
    "L = np.zeros(M.shape)\n",
    "\n",
    "for j in range(U.shape[1]):\n",
    "    U += np.diag(np.diag(M, j+1), j+1)\n",
    "    L += np.diag(np.diag(M, -(j+1)), -(j+1))\n",
    "\n",
    "print(\"================= ADICIONANDO NA DIAGONAL =================\")\n",
    "test_sum(D)\n",
    "\n",
    "print(\"================= ADICIONANDO ACIMA DA DIAGONAL =================\")\n",
    "test_sum(U)\n",
    "\n",
    "print(\"================= ADICIONANDO ABAIXO DA DIAGONAL =================\")\n",
    "test_sum(L)\n"
   ]
  },
  {
   "cell_type": "markdown",
   "metadata": {},
   "source": [
    "Perceba que varia MUITO, porém, quando pertubamos os valores apenas na diagonal, principalmente para valores grandes, a tendência é que o sistema $(A+D)x = b$ tende a CONVERGIR em ambos os algoritmos, tendo em vista que a chance de ter valores maiores na diagonal é MUITO MAIOR"
   ]
  },
  {
   "cell_type": "markdown",
   "metadata": {},
   "source": [
    "#### e) O erro no método de Jacobi aplicado à matriz $ A = \\begin{bmatrix} 1 & 0 & 1 \\\\ -1 & 1 & 0 \\\\ 1 & 2 & -3 \\end{bmatrix} $ converge para 0, mas o de Gauss-Seidel mantém o erro constante. Explique o porquê"
   ]
  },
  {
   "cell_type": "markdown",
   "metadata": {},
   "source": [
    "Dada a matriz $A$, e seja $A = L + U + D$, onde $ L = \\begin{bmatrix} 0 & 0 & 0 \\\\ -1 & 0 & 0 \\\\ 1 & 2 & 0 \\end{bmatrix} $, $ U = \\begin{bmatrix} 0 & 0 & 1 \\\\ 0 & 0 & 0 \\\\ 0 & 0 & 0 \\end{bmatrix} $ e $ D = \\begin{bmatrix} 1 & 0 & 0 \\\\ 0 & 1 & 0 \\\\ 0 & 0 & -3 \\end{bmatrix} $, então o valor de x na k-ésima iteração de cada algoritmo é:\n",
    "\n",
    "**Jacobi**:\n",
    "$$\n",
    "x_{k+1} = M_jx_k + c\n",
    "$$\n",
    "\n",
    "onde $ M_j = -D^{-1}(L+U) $ e $ c = D^{-1}b $\n",
    "\n",
    "**Gauss**:\n",
    "$$\n",
    "x_{k+1} = M_gx_k + d\n",
    "$$\n",
    "\n",
    "onde $ M_g = -(D+L)^{-1}U $ e $d = (D+L)^{-1}b$\n",
    "\n",
    "E temos um teorema que diz que, diz:\n",
    "\n",
    "Jacobi converte $\\Leftrightarrow \\lambda(M_j) \\lt 1$\n",
    "\n",
    "Gauss converte $\\Leftrightarrow \\lambda(M_g) \\lt 1$\n",
    "\n",
    "Vamos então calcular tanto os autovalores de $M_j$ e $M_g$"
   ]
  },
  {
   "cell_type": "code",
   "execution_count": null,
   "metadata": {},
   "outputs": [
    {
     "name": "stdout",
     "output_type": "stream",
     "text": [
      "======== Mj ========\n",
      "[[ 0.          0.         -1.        ]\n",
      " [ 1.          0.          0.        ]\n",
      " [ 0.33333333  0.66666667  0.        ]]\n",
      "======== Mg ========\n",
      "[[ 0.  0. -1.]\n",
      " [ 0.  0. -1.]\n",
      " [ 0.  0. -1.]]\n"
     ]
    }
   ],
   "source": [
    "A = np.array([1, 0, 1, -1, 1, 0, 1, 2, -3]).reshape(3,3)\n",
    "L = np.zeros(A.shape)\n",
    "U = np.zeros(A.shape)\n",
    "D = np.diag(np.diag(A))\n",
    "\n",
    "for j in range(A.shape[0]):\n",
    "    U += np.diag(np.diag(A, j+1), j+1)\n",
    "    L += np.diag(np.diag(A, -(j+1)), -(j+1))\n",
    "\n",
    "M_j = -np.linalg.inv(D) @ (L+U)\n",
    "M_g = -np.linalg.inv(D+L) @ U\n",
    "\n",
    "print(\"======== Mj ========\")\n",
    "print(M_j)\n",
    "\n",
    "print(\"======== Mg ========\")\n",
    "print(M_g)"
   ]
  },
  {
   "cell_type": "markdown",
   "metadata": {},
   "source": [
    "Temos então que $M_j = \\begin{bmatrix} 0 & 0 & -1 \\\\ 1 & 0 & 0 \\\\ \\frac{1}{3} & \\frac{2}{3} & 0 \\end{bmatrix}$, $M_g = \\begin{bmatrix} 0 & 0 & -1 \\\\ 0 & 0 & -1 \\\\ 0 & 0 & -1 \\end{bmatrix}$. E quais são os autovalores de ambas as matrizes?"
   ]
  },
  {
   "cell_type": "code",
   "execution_count": 207,
   "metadata": {},
   "outputs": [
    {
     "name": "stdout",
     "output_type": "stream",
     "text": [
      "========= AUTOVALORES DE Mj =========\n",
      "[ 0.37370763+0.86735546j  0.37370763-0.86735546j -0.74741525+0.j        ]\n",
      "========= AUTOVALORES DE Mg =========\n",
      "[ 0.  0. -1.]\n"
     ]
    }
   ],
   "source": [
    "print(\"========= AUTOVALORES DE Mj =========\")\n",
    "print(np.linalg.eig(M_j).eigenvalues)\n",
    "\n",
    "print(\"========= AUTOVALORES DE Mg =========\")\n",
    "print(np.linalg.eig(M_g).eigenvalues)"
   ]
  },
  {
   "cell_type": "markdown",
   "metadata": {},
   "source": [
    "Perceba que os autovalores de $M_g$ não são menores que 1, o que, pelo teorema, faz com que o algoritmo não converge, e ainda mais, como um de seus autovalores é $-1$, o erro não sai do lugar, nem aumenta, nem diminui"
   ]
  },
  {
   "cell_type": "markdown",
   "metadata": {},
   "source": [
    "#### f) Será que você consegue, a partir da matriz A, construir uma matriz em que o erro do método de Jacobi vai para zero, enquanto que o erro do método de Gauss-Seidel diverge para $+\\infty$?"
   ]
  }
 ],
 "metadata": {
  "kernelspec": {
   "display_name": "venv",
   "language": "python",
   "name": "python3"
  },
  "language_info": {
   "codemirror_mode": {
    "name": "ipython",
    "version": 3
   },
   "file_extension": ".py",
   "mimetype": "text/x-python",
   "name": "python",
   "nbconvert_exporter": "python",
   "pygments_lexer": "ipython3",
   "version": "3.12.3"
  }
 },
 "nbformat": 4,
 "nbformat_minor": 2
}
